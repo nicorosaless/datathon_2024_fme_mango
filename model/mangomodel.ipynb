{
 "cells": [
  {
   "cell_type": "markdown",
   "metadata": {},
   "source": [
    "# Mango Attribute Predict Model"
   ]
  },
  {
   "cell_type": "markdown",
   "metadata": {},
   "source": [
    "### Imports"
   ]
  },
  {
   "cell_type": "code",
   "execution_count": null,
   "metadata": {},
   "outputs": [],
   "source": [
    "import matplotlib.pyplot as plt\n",
    "import numpy as np\n",
    "import pandas as pd\n",
    "import seaborn as sns\n",
    "\n",
    "from IPython import get_ipython\n",
    "from keras.preprocessing import image\n",
    "from keras.applications.resnet50 import ResNet50, preprocess_input\n",
    "import os\n",
    "\n",
    "from sklearn.preprocessing import OneHotEncoder, StandardScaler\n",
    "from sklearn.model_selection import train_test_split\n",
    "import torch\n",
    "from torch import nn\n",
    "import torch.optim as optim\n",
    "import missingno as msno"
   ]
  },
  {
   "cell_type": "markdown",
   "metadata": {},
   "source": [
    "### Data Preprocessing"
   ]
  },
  {
   "cell_type": "code",
   "execution_count": null,
   "metadata": {},
   "outputs": [],
   "source": [
    "df = pd.read_csv(\"../datathon-fme-mango/archive/product_data.csv\")\n",
    "attribute_data = pd.read_csv(\"../datathon-fme-mango/archive/attribute_data.csv\")"
   ]
  },
  {
   "cell_type": "code",
   "execution_count": null,
   "metadata": {},
   "outputs": [],
   "source": [
    "df.head()"
   ]
  },
  {
   "cell_type": "code",
   "execution_count": null,
   "metadata": {},
   "outputs": [],
   "source": [
    "df.describe()"
   ]
  },
  {
   "cell_type": "code",
   "execution_count": null,
   "metadata": {},
   "outputs": [],
   "source": [
    "df.info()"
   ]
  },
  {
   "cell_type": "code",
   "execution_count": null,
   "metadata": {},
   "outputs": [],
   "source": [
    "# Group by 'cod_modelo_color' and aggregate 'des_filename' into a list, keeping other columns\n",
    "df = df.groupby('cod_modelo_color').agg({'des_filename': lambda x: list(x), **{col: 'first' for col in df.columns if col != 'cod_modelo_color' and col != 'des_filename'}}).reset_index()\n",
    "#df = df.groupby('cod_modelo_color').agg({'des_filename': lambda x: list(x)}).reset_index()\n",
    "\n",
    "# Display the updated dataframe\n",
    "print(df.head())"
   ]
  },
  {
   "cell_type": "code",
   "execution_count": null,
   "metadata": {},
   "outputs": [],
   "source": [
    "df.head()"
   ]
  },
  {
   "cell_type": "code",
   "execution_count": null,
   "metadata": {},
   "outputs": [],
   "source": [
    "#df.describe()"
   ]
  },
  {
   "cell_type": "code",
   "execution_count": null,
   "metadata": {},
   "outputs": [],
   "source": [
    "# Pivot the attribute_data dataframe\n",
    "attribute_pivot = attribute_data.pivot(index='cod_modelo_color', columns='attribute_name', values='des_value')\n",
    "\n",
    "# Reset the index to merge with df\n",
    "attribute_pivot.reset_index(inplace=True)\n",
    "\n",
    "# Merge the pivoted attribute data with the product data\n",
    "df = pd.merge(df, attribute_pivot, on='cod_modelo_color', how='left')\n",
    "\n",
    "# Display the merged dataframe\n",
    "print(df.head())"
   ]
  },
  {
   "cell_type": "code",
   "execution_count": null,
   "metadata": {},
   "outputs": [],
   "source": [
    "# Check for missing values in the dataframe\n",
    "missing_values = df.isnull().sum()\n",
    "print(missing_values)\n",
    "# Create a heatmap of the missing values\n",
    "plt.figure(figsize=(12, 8))\n",
    "sns.heatmap(df.isnull(), cbar=False, cmap='viridis')\n",
    "plt.title('Heatmap of Missing Values in df')\n",
    "plt.show()"
   ]
  },
  {
   "cell_type": "code",
   "execution_count": null,
   "metadata": {},
   "outputs": [],
   "source": [
    "# Select the categorical columns to encode\n",
    "categorical_columns = ['cod_color', 'des_sex', 'des_age', 'des_line', 'des_fabric', 'des_product_category', 'des_product_aggregated_family', 'des_product_family', 'des_product_type', 'des_color', 'cane_height_type', 'closure_placement', 'heel_shape_type', 'knit_structure', 'length_type', 'neck_lapel_type', 'silhouette_type', 'sleeve_length_type', 'toecap_type', 'waist_type', 'woven_structure']\n",
    "\n",
    "# Initialize the OneHotEncoder\n",
    "encoder = OneHotEncoder(handle_unknown='ignore', sparse_output=False)\n",
    "\n",
    "df_encoded = df.copy()\n",
    "\n",
    "# Loop through each categorical column\n",
    "for col in categorical_columns:\n",
    "    # Fit and transform the current column\n",
    "    encoded_columns = encoder.fit_transform(df[[col]])\n",
    "    \n",
    "    # Replace the original column with the array of encoded values\n",
    "    df_encoded[col] = list(encoded_columns)  # Each row will contain an array of 0s and 1s\n",
    "\n",
    "# Display the updated dataframe\n",
    "df_encoded.head()"
   ]
  },
  {
   "cell_type": "code",
   "execution_count": null,
   "metadata": {},
   "outputs": [],
   "source": [
    "embeddings = pd.read_csv(\"../datathon-fme-mango/archive/64DimensionalEmbedding.csv\") # CAMBIAR ENLACE CSV\n",
    "\n",
    "# Assuming the 64 columns are named 'embedding_1', 'embedding_2', ..., 'embedding_64'\n",
    "embedding_columns = [f'embeddings_{i}' for i in range(1, 65)]\n",
    "\n",
    "# Combine the 64 columns into a single column\n",
    "embeddings['embeddings'] = embeddings[embedding_columns].values.tolist()\n",
    "\n",
    "# Drop the original 64 columns from embeddings dataframe\n",
    "embeddings.drop(columns=embedding_columns, inplace=True)\n",
    "\n",
    "# Display the updated embeddings dataframe\n",
    "embeddings.head()"
   ]
  },
  {
   "cell_type": "code",
   "execution_count": null,
   "metadata": {},
   "outputs": [],
   "source": [
    "# Explode the des_filename column to have one filename per row\n",
    "df_exploded = df_encoded.explode('des_filename')\n",
    "\n",
    "# Merge the exploded dataframe with the embeddings dataframe on the filename column\n",
    "df_with_embeddings = pd.merge(df_exploded, embeddings, left_on='des_filename', right_on='filename', how='left')\n",
    "\n",
    "# Group by 'cod_modelo_color' and aggregate the embeddings into a list\n",
    "df_with_embeddings = df_with_embeddings.groupby('cod_modelo_color').agg({'des_filename': lambda x: list(x), 'embeddings': lambda x: list(x), **{col: 'first' for col in df.columns if col != 'cod_modelo_color' and col != 'des_filename'}}).reset_index()\n",
    "\n",
    "# Display the updated dataframe\n",
    "df_with_embeddings.head()"
   ]
  }
 ],
 "metadata": {
  "kernelspec": {
   "display_name": "Python 3",
   "language": "python",
   "name": "python3"
  },
  "language_info": {
   "codemirror_mode": {
    "name": "ipython",
    "version": 3
   },
   "file_extension": ".py",
   "mimetype": "text/x-python",
   "name": "python",
   "nbconvert_exporter": "python",
   "pygments_lexer": "ipython3",
   "version": "3.12.6"
  }
 },
 "nbformat": 4,
 "nbformat_minor": 2
}
