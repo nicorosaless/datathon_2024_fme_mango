{
 "cells": [
  {
   "cell_type": "code",
   "execution_count": 2,
   "metadata": {},
   "outputs": [],
   "source": [
    "# Celda 1: Importar las librerías necesarias\n",
    "import pandas as pd\n",
    "import numpy as np\n",
    "import os\n",
    "from sklearn.model_selection import train_test_split\n",
    "from sklearn.preprocessing import LabelEncoder, StandardScaler\n",
    "from tensorflow.keras.utils import to_categorical\n",
    "import tensorflow as tf\n",
    "from tensorflow.keras.applications import ResNet50\n",
    "from tensorflow.keras.models import Model\n",
    "from tensorflow.keras.layers import Dense, Flatten, Input, concatenate\n",
    "from tensorflow.keras.preprocessing import image as keras_img\n",
    "from tqdm import tqdm\n",
    "import ssl\n",
    "\n",
    "\n",
    "ssl._create_default_https_context = ssl._create_unverified_context\n"
   ]
  },
  {
   "cell_type": "code",
   "execution_count": 3,
   "metadata": {},
   "outputs": [],
   "source": [
    "# Celda 2: Cargar los datos\n",
    "# Cargar los datasets\n",
    "product_data = pd.read_csv('../archive/product_data.csv')\n",
    "attribute_data = pd.read_csv('../archive/attribute_data.csv')\n",
    "test_data = pd.read_csv('../archive/test_data.csv')\n"
   ]
  },
  {
   "cell_type": "code",
   "execution_count": 4,
   "metadata": {},
   "outputs": [
    {
     "data": {
      "text/html": [
       "<div>\n",
       "<style scoped>\n",
       "    .dataframe tbody tr th:only-of-type {\n",
       "        vertical-align: middle;\n",
       "    }\n",
       "\n",
       "    .dataframe tbody tr th {\n",
       "        vertical-align: top;\n",
       "    }\n",
       "\n",
       "    .dataframe thead th {\n",
       "        text-align: right;\n",
       "    }\n",
       "</style>\n",
       "<table border=\"1\" class=\"dataframe\">\n",
       "  <thead>\n",
       "    <tr style=\"text-align: right;\">\n",
       "      <th></th>\n",
       "      <th>des_filename</th>\n",
       "      <th>attribute_name</th>\n",
       "      <th>des_value</th>\n",
       "    </tr>\n",
       "  </thead>\n",
       "  <tbody>\n",
       "    <tr>\n",
       "      <th>0</th>\n",
       "      <td>85_1202950_37036315-99_B.jpg</td>\n",
       "      <td>silhouette_type</td>\n",
       "      <td>Slim</td>\n",
       "    </tr>\n",
       "    <tr>\n",
       "      <th>1</th>\n",
       "      <td>85_1202950_37036315-99_.jpg</td>\n",
       "      <td>silhouette_type</td>\n",
       "      <td>Slim</td>\n",
       "    </tr>\n",
       "    <tr>\n",
       "      <th>2</th>\n",
       "      <td>86_1217677_47024408-95_.jpg</td>\n",
       "      <td>silhouette_type</td>\n",
       "      <td>Oversize</td>\n",
       "    </tr>\n",
       "    <tr>\n",
       "      <th>3</th>\n",
       "      <td>86_1217677_47024408-95_B.jpg</td>\n",
       "      <td>silhouette_type</td>\n",
       "      <td>Oversize</td>\n",
       "    </tr>\n",
       "    <tr>\n",
       "      <th>4</th>\n",
       "      <td>84_1168477_27075766-99_B.jpg</td>\n",
       "      <td>silhouette_type</td>\n",
       "      <td>Slim</td>\n",
       "    </tr>\n",
       "    <tr>\n",
       "      <th>...</th>\n",
       "      <td>...</td>\n",
       "      <td>...</td>\n",
       "      <td>...</td>\n",
       "    </tr>\n",
       "    <tr>\n",
       "      <th>279850</th>\n",
       "      <td>86_1226349_47110061-09_.jpg</td>\n",
       "      <td>closure_placement</td>\n",
       "      <td>Cierre Delantero</td>\n",
       "    </tr>\n",
       "    <tr>\n",
       "      <th>279851</th>\n",
       "      <td>86_1226349_47110061-09_B.jpg</td>\n",
       "      <td>closure_placement</td>\n",
       "      <td>Cierre Delantero</td>\n",
       "    </tr>\n",
       "    <tr>\n",
       "      <th>279852</th>\n",
       "      <td>86_1213782_47054396-TM_B.jpg</td>\n",
       "      <td>closure_placement</td>\n",
       "      <td>Cierre Delantero</td>\n",
       "    </tr>\n",
       "    <tr>\n",
       "      <th>279853</th>\n",
       "      <td>86_1213782_47054396-TM_.jpg</td>\n",
       "      <td>closure_placement</td>\n",
       "      <td>Cierre Delantero</td>\n",
       "    </tr>\n",
       "    <tr>\n",
       "      <th>279854</th>\n",
       "      <td>84_1160746_27071503-02_B.jpg</td>\n",
       "      <td>closure_placement</td>\n",
       "      <td>Sin cierre</td>\n",
       "    </tr>\n",
       "  </tbody>\n",
       "</table>\n",
       "<p>279855 rows × 3 columns</p>\n",
       "</div>"
      ],
      "text/plain": [
       "                        des_filename     attribute_name         des_value\n",
       "0       85_1202950_37036315-99_B.jpg    silhouette_type              Slim\n",
       "1        85_1202950_37036315-99_.jpg    silhouette_type              Slim\n",
       "2        86_1217677_47024408-95_.jpg    silhouette_type          Oversize\n",
       "3       86_1217677_47024408-95_B.jpg    silhouette_type          Oversize\n",
       "4       84_1168477_27075766-99_B.jpg    silhouette_type              Slim\n",
       "...                              ...                ...               ...\n",
       "279850   86_1226349_47110061-09_.jpg  closure_placement  Cierre Delantero\n",
       "279851  86_1226349_47110061-09_B.jpg  closure_placement  Cierre Delantero\n",
       "279852  86_1213782_47054396-TM_B.jpg  closure_placement  Cierre Delantero\n",
       "279853   86_1213782_47054396-TM_.jpg  closure_placement  Cierre Delantero\n",
       "279854  84_1160746_27071503-02_B.jpg  closure_placement        Sin cierre\n",
       "\n",
       "[279855 rows x 3 columns]"
      ]
     },
     "execution_count": 4,
     "metadata": {},
     "output_type": "execute_result"
    }
   ],
   "source": [
    "# Celda 3: Fusionar los datasets\n",
    "# Fusionar los datos de atributos con la información de productos basado en 'cod_modelo_color'\n",
    "merged_data = pd.merge(attribute_data, product_data, on='cod_modelo_color', how='left')\n",
    "# Seleccionar solo las columnas necesarias\n",
    "merged_data = merged_data[['des_filename'] + attribute_data.columns.tolist()]\n",
    "merged_data = merged_data.drop(columns=['cod_modelo_color', 'cod_value'])\n",
    "merged_data\n"
   ]
  },
  {
   "cell_type": "code",
   "execution_count": 5,
   "metadata": {},
   "outputs": [
    {
     "data": {
      "text/html": [
       "<div>\n",
       "<style scoped>\n",
       "    .dataframe tbody tr th:only-of-type {\n",
       "        vertical-align: middle;\n",
       "    }\n",
       "\n",
       "    .dataframe tbody tr th {\n",
       "        vertical-align: top;\n",
       "    }\n",
       "\n",
       "    .dataframe thead th {\n",
       "        text-align: right;\n",
       "    }\n",
       "</style>\n",
       "<table border=\"1\" class=\"dataframe\">\n",
       "  <thead>\n",
       "    <tr style=\"text-align: right;\">\n",
       "      <th></th>\n",
       "      <th>des_filename</th>\n",
       "      <th>attribute_name</th>\n",
       "      <th>des_value_encoded</th>\n",
       "    </tr>\n",
       "  </thead>\n",
       "  <tbody>\n",
       "    <tr>\n",
       "      <th>0</th>\n",
       "      <td>85_1202950_37036315-99_B.jpg</td>\n",
       "      <td>silhouette_type</td>\n",
       "      <td>105</td>\n",
       "    </tr>\n",
       "    <tr>\n",
       "      <th>1</th>\n",
       "      <td>85_1202950_37036315-99_.jpg</td>\n",
       "      <td>silhouette_type</td>\n",
       "      <td>105</td>\n",
       "    </tr>\n",
       "    <tr>\n",
       "      <th>2</th>\n",
       "      <td>86_1217677_47024408-95_.jpg</td>\n",
       "      <td>silhouette_type</td>\n",
       "      <td>70</td>\n",
       "    </tr>\n",
       "    <tr>\n",
       "      <th>3</th>\n",
       "      <td>86_1217677_47024408-95_B.jpg</td>\n",
       "      <td>silhouette_type</td>\n",
       "      <td>70</td>\n",
       "    </tr>\n",
       "    <tr>\n",
       "      <th>4</th>\n",
       "      <td>84_1168477_27075766-99_B.jpg</td>\n",
       "      <td>silhouette_type</td>\n",
       "      <td>105</td>\n",
       "    </tr>\n",
       "    <tr>\n",
       "      <th>...</th>\n",
       "      <td>...</td>\n",
       "      <td>...</td>\n",
       "      <td>...</td>\n",
       "    </tr>\n",
       "    <tr>\n",
       "      <th>279850</th>\n",
       "      <td>86_1226349_47110061-09_.jpg</td>\n",
       "      <td>closure_placement</td>\n",
       "      <td>24</td>\n",
       "    </tr>\n",
       "    <tr>\n",
       "      <th>279851</th>\n",
       "      <td>86_1226349_47110061-09_B.jpg</td>\n",
       "      <td>closure_placement</td>\n",
       "      <td>24</td>\n",
       "    </tr>\n",
       "    <tr>\n",
       "      <th>279852</th>\n",
       "      <td>86_1213782_47054396-TM_B.jpg</td>\n",
       "      <td>closure_placement</td>\n",
       "      <td>24</td>\n",
       "    </tr>\n",
       "    <tr>\n",
       "      <th>279853</th>\n",
       "      <td>86_1213782_47054396-TM_.jpg</td>\n",
       "      <td>closure_placement</td>\n",
       "      <td>24</td>\n",
       "    </tr>\n",
       "    <tr>\n",
       "      <th>279854</th>\n",
       "      <td>84_1160746_27071503-02_B.jpg</td>\n",
       "      <td>closure_placement</td>\n",
       "      <td>102</td>\n",
       "    </tr>\n",
       "  </tbody>\n",
       "</table>\n",
       "<p>279855 rows × 3 columns</p>\n",
       "</div>"
      ],
      "text/plain": [
       "                        des_filename     attribute_name  des_value_encoded\n",
       "0       85_1202950_37036315-99_B.jpg    silhouette_type                105\n",
       "1        85_1202950_37036315-99_.jpg    silhouette_type                105\n",
       "2        86_1217677_47024408-95_.jpg    silhouette_type                 70\n",
       "3       86_1217677_47024408-95_B.jpg    silhouette_type                 70\n",
       "4       84_1168477_27075766-99_B.jpg    silhouette_type                105\n",
       "...                              ...                ...                ...\n",
       "279850   86_1226349_47110061-09_.jpg  closure_placement                 24\n",
       "279851  86_1226349_47110061-09_B.jpg  closure_placement                 24\n",
       "279852  86_1213782_47054396-TM_B.jpg  closure_placement                 24\n",
       "279853   86_1213782_47054396-TM_.jpg  closure_placement                 24\n",
       "279854  84_1160746_27071503-02_B.jpg  closure_placement                102\n",
       "\n",
       "[279855 rows x 3 columns]"
      ]
     },
     "execution_count": 5,
     "metadata": {},
     "output_type": "execute_result"
    }
   ],
   "source": [
    "# Codificar la variable objetivo 'des_value' (para entrenamiento)\n",
    "le_value = LabelEncoder()\n",
    "merged_data['des_value_encoded'] = le_value.fit_transform(merged_data['des_value'])\n",
    "target_classes = len(le_value.classes_)\n",
    "merged_data = merged_data.drop(columns=['des_value'])\n",
    "merged_data"
   ]
  },
  {
   "cell_type": "code",
   "execution_count": 6,
   "metadata": {},
   "outputs": [
    {
     "data": {
      "text/html": [
       "<div>\n",
       "<style scoped>\n",
       "    .dataframe tbody tr th:only-of-type {\n",
       "        vertical-align: middle;\n",
       "    }\n",
       "\n",
       "    .dataframe tbody tr th {\n",
       "        vertical-align: top;\n",
       "    }\n",
       "\n",
       "    .dataframe thead th {\n",
       "        text-align: right;\n",
       "    }\n",
       "</style>\n",
       "<table border=\"1\" class=\"dataframe\">\n",
       "  <thead>\n",
       "    <tr style=\"text-align: right;\">\n",
       "      <th></th>\n",
       "      <th>cod_modelo_color</th>\n",
       "      <th>des_filename</th>\n",
       "      <th>cod_color</th>\n",
       "      <th>des_color</th>\n",
       "      <th>des_sex</th>\n",
       "      <th>des_age</th>\n",
       "      <th>des_line</th>\n",
       "      <th>des_fabric</th>\n",
       "      <th>des_product_category</th>\n",
       "      <th>des_product_aggregated_family</th>\n",
       "      <th>des_product_family</th>\n",
       "      <th>des_product_type</th>\n",
       "      <th>attribute_name</th>\n",
       "      <th>test_id</th>\n",
       "    </tr>\n",
       "  </thead>\n",
       "  <tbody>\n",
       "    <tr>\n",
       "      <th>0</th>\n",
       "      <td>88_49711373</td>\n",
       "      <td>88_49711373_67080432-99_.jpg</td>\n",
       "      <td>99</td>\n",
       "      <td>NEGRO</td>\n",
       "      <td>Female</td>\n",
       "      <td>Adult</td>\n",
       "      <td>WOMAN</td>\n",
       "      <td>ACCESSORIES</td>\n",
       "      <td>Accesories, Swim and Intimate</td>\n",
       "      <td>Accessories</td>\n",
       "      <td>Footwear</td>\n",
       "      <td>Boots</td>\n",
       "      <td>cane_height_type</td>\n",
       "      <td>88_49711373_cane_height_type</td>\n",
       "    </tr>\n",
       "    <tr>\n",
       "      <th>1</th>\n",
       "      <td>88_49718802</td>\n",
       "      <td>88_49718802_67030656-99_.jpg</td>\n",
       "      <td>99</td>\n",
       "      <td>NEGRO</td>\n",
       "      <td>Male</td>\n",
       "      <td>Adult</td>\n",
       "      <td>MAN</td>\n",
       "      <td>ACCESSORIES</td>\n",
       "      <td>Accesories, Swim and Intimate</td>\n",
       "      <td>Accessories</td>\n",
       "      <td>Footwear</td>\n",
       "      <td>Ankle Boots</td>\n",
       "      <td>cane_height_type</td>\n",
       "      <td>88_49718802_cane_height_type</td>\n",
       "    </tr>\n",
       "    <tr>\n",
       "      <th>2</th>\n",
       "      <td>88_49709572</td>\n",
       "      <td>88_49709572_67030418-01_B.jpg</td>\n",
       "      <td>01</td>\n",
       "      <td>BLANCO</td>\n",
       "      <td>Female</td>\n",
       "      <td>Kids</td>\n",
       "      <td>KIDS</td>\n",
       "      <td>CIRCULAR</td>\n",
       "      <td>Tops</td>\n",
       "      <td>T-shirts</td>\n",
       "      <td>T-shirt</td>\n",
       "      <td>T-Shirt</td>\n",
       "      <td>cane_height_type</td>\n",
       "      <td>88_49709572_cane_height_type</td>\n",
       "    </tr>\n",
       "    <tr>\n",
       "      <th>3</th>\n",
       "      <td>88_49722701</td>\n",
       "      <td>88_49722701_67066002-02_.jpg</td>\n",
       "      <td>02</td>\n",
       "      <td>OFFWHITE</td>\n",
       "      <td>Female</td>\n",
       "      <td>Baby</td>\n",
       "      <td>KIDS</td>\n",
       "      <td>CIRCULAR</td>\n",
       "      <td>Tops</td>\n",
       "      <td>T-shirts</td>\n",
       "      <td>T-shirt</td>\n",
       "      <td>T-Shirt</td>\n",
       "      <td>cane_height_type</td>\n",
       "      <td>88_49722701_cane_height_type</td>\n",
       "    </tr>\n",
       "    <tr>\n",
       "      <th>4</th>\n",
       "      <td>88_49724926</td>\n",
       "      <td>88_49724926_67056330-02_B.jpg</td>\n",
       "      <td>02</td>\n",
       "      <td>OFFWHITE</td>\n",
       "      <td>Male</td>\n",
       "      <td>Newborn</td>\n",
       "      <td>KIDS</td>\n",
       "      <td>WOVEN</td>\n",
       "      <td>Tops</td>\n",
       "      <td>Shirts</td>\n",
       "      <td>Shirt</td>\n",
       "      <td>Shirt</td>\n",
       "      <td>cane_height_type</td>\n",
       "      <td>88_49724926_cane_height_type</td>\n",
       "    </tr>\n",
       "    <tr>\n",
       "      <th>...</th>\n",
       "      <td>...</td>\n",
       "      <td>...</td>\n",
       "      <td>...</td>\n",
       "      <td>...</td>\n",
       "      <td>...</td>\n",
       "      <td>...</td>\n",
       "      <td>...</td>\n",
       "      <td>...</td>\n",
       "      <td>...</td>\n",
       "      <td>...</td>\n",
       "      <td>...</td>\n",
       "      <td>...</td>\n",
       "      <td>...</td>\n",
       "      <td>...</td>\n",
       "    </tr>\n",
       "    <tr>\n",
       "      <th>71814</th>\n",
       "      <td>88_49727540</td>\n",
       "      <td>88_49727540_67069223-56_.jpg</td>\n",
       "      <td>56</td>\n",
       "      <td>NAVY</td>\n",
       "      <td>Male</td>\n",
       "      <td>Adult</td>\n",
       "      <td>MAN</td>\n",
       "      <td>WOVEN</td>\n",
       "      <td>Tops</td>\n",
       "      <td>Shirts</td>\n",
       "      <td>Shirt</td>\n",
       "      <td>Shirt</td>\n",
       "      <td>knit_structure</td>\n",
       "      <td>88_49727540_knit_structure</td>\n",
       "    </tr>\n",
       "    <tr>\n",
       "      <th>71815</th>\n",
       "      <td>88_49733648</td>\n",
       "      <td>88_49733648_67017145-56_.jpg</td>\n",
       "      <td>56</td>\n",
       "      <td>NAVY</td>\n",
       "      <td>Female</td>\n",
       "      <td>Adult</td>\n",
       "      <td>WOMAN</td>\n",
       "      <td>CIRCULAR</td>\n",
       "      <td>Tops</td>\n",
       "      <td>T-shirts</td>\n",
       "      <td>Poloshirts</td>\n",
       "      <td>Poloshirt</td>\n",
       "      <td>knit_structure</td>\n",
       "      <td>88_49733648_knit_structure</td>\n",
       "    </tr>\n",
       "    <tr>\n",
       "      <th>71816</th>\n",
       "      <td>88_49735572</td>\n",
       "      <td>88_49735572_67076755-81_.jpg</td>\n",
       "      <td>81</td>\n",
       "      <td>ROSA PASTEL</td>\n",
       "      <td>Female</td>\n",
       "      <td>Adult</td>\n",
       "      <td>WOMAN</td>\n",
       "      <td>CIRCULAR</td>\n",
       "      <td>Tops</td>\n",
       "      <td>T-shirts</td>\n",
       "      <td>T-shirt</td>\n",
       "      <td>T-Shirt</td>\n",
       "      <td>knit_structure</td>\n",
       "      <td>88_49735572_knit_structure</td>\n",
       "    </tr>\n",
       "    <tr>\n",
       "      <th>71817</th>\n",
       "      <td>88_49713624</td>\n",
       "      <td>88_49713624_67092528-70_.jpg</td>\n",
       "      <td>70</td>\n",
       "      <td>ROJO</td>\n",
       "      <td>Female</td>\n",
       "      <td>Adult</td>\n",
       "      <td>WOMAN</td>\n",
       "      <td>WOVEN</td>\n",
       "      <td>Dresses, jumpsuits and Complete set</td>\n",
       "      <td>Dresses and jumpsuits</td>\n",
       "      <td>Dresses</td>\n",
       "      <td>Dress</td>\n",
       "      <td>knit_structure</td>\n",
       "      <td>88_49713624_knit_structure</td>\n",
       "    </tr>\n",
       "    <tr>\n",
       "      <th>71818</th>\n",
       "      <td>88_49726160</td>\n",
       "      <td>88_49726160_67076040-99_.jpg</td>\n",
       "      <td>99</td>\n",
       "      <td>NEGRO</td>\n",
       "      <td>Female</td>\n",
       "      <td>Adult</td>\n",
       "      <td>WOMAN</td>\n",
       "      <td>CIRCULAR</td>\n",
       "      <td>Dresses, jumpsuits and Complete set</td>\n",
       "      <td>Dresses and jumpsuits</td>\n",
       "      <td>Dresses</td>\n",
       "      <td>Dress</td>\n",
       "      <td>knit_structure</td>\n",
       "      <td>88_49726160_knit_structure</td>\n",
       "    </tr>\n",
       "  </tbody>\n",
       "</table>\n",
       "<p>71819 rows × 14 columns</p>\n",
       "</div>"
      ],
      "text/plain": [
       "      cod_modelo_color                   des_filename cod_color    des_color   \n",
       "0          88_49711373   88_49711373_67080432-99_.jpg        99        NEGRO  \\\n",
       "1          88_49718802   88_49718802_67030656-99_.jpg        99        NEGRO   \n",
       "2          88_49709572  88_49709572_67030418-01_B.jpg        01       BLANCO   \n",
       "3          88_49722701   88_49722701_67066002-02_.jpg        02     OFFWHITE   \n",
       "4          88_49724926  88_49724926_67056330-02_B.jpg        02     OFFWHITE   \n",
       "...                ...                            ...       ...          ...   \n",
       "71814      88_49727540   88_49727540_67069223-56_.jpg        56         NAVY   \n",
       "71815      88_49733648   88_49733648_67017145-56_.jpg        56         NAVY   \n",
       "71816      88_49735572   88_49735572_67076755-81_.jpg        81  ROSA PASTEL   \n",
       "71817      88_49713624   88_49713624_67092528-70_.jpg        70         ROJO   \n",
       "71818      88_49726160   88_49726160_67076040-99_.jpg        99        NEGRO   \n",
       "\n",
       "      des_sex  des_age des_line   des_fabric   \n",
       "0      Female    Adult    WOMAN  ACCESSORIES  \\\n",
       "1        Male    Adult      MAN  ACCESSORIES   \n",
       "2      Female     Kids     KIDS     CIRCULAR   \n",
       "3      Female     Baby     KIDS     CIRCULAR   \n",
       "4        Male  Newborn     KIDS        WOVEN   \n",
       "...       ...      ...      ...          ...   \n",
       "71814    Male    Adult      MAN        WOVEN   \n",
       "71815  Female    Adult    WOMAN     CIRCULAR   \n",
       "71816  Female    Adult    WOMAN     CIRCULAR   \n",
       "71817  Female    Adult    WOMAN        WOVEN   \n",
       "71818  Female    Adult    WOMAN     CIRCULAR   \n",
       "\n",
       "                      des_product_category des_product_aggregated_family   \n",
       "0            Accesories, Swim and Intimate                   Accessories  \\\n",
       "1            Accesories, Swim and Intimate                   Accessories   \n",
       "2                                     Tops                      T-shirts   \n",
       "3                                     Tops                      T-shirts   \n",
       "4                                     Tops                        Shirts   \n",
       "...                                    ...                           ...   \n",
       "71814                                 Tops                        Shirts   \n",
       "71815                                 Tops                      T-shirts   \n",
       "71816                                 Tops                      T-shirts   \n",
       "71817  Dresses, jumpsuits and Complete set         Dresses and jumpsuits   \n",
       "71818  Dresses, jumpsuits and Complete set         Dresses and jumpsuits   \n",
       "\n",
       "      des_product_family des_product_type    attribute_name   \n",
       "0               Footwear            Boots  cane_height_type  \\\n",
       "1               Footwear      Ankle Boots  cane_height_type   \n",
       "2                T-shirt          T-Shirt  cane_height_type   \n",
       "3                T-shirt          T-Shirt  cane_height_type   \n",
       "4                  Shirt            Shirt  cane_height_type   \n",
       "...                  ...              ...               ...   \n",
       "71814              Shirt            Shirt    knit_structure   \n",
       "71815         Poloshirts        Poloshirt    knit_structure   \n",
       "71816            T-shirt          T-Shirt    knit_structure   \n",
       "71817            Dresses            Dress    knit_structure   \n",
       "71818            Dresses            Dress    knit_structure   \n",
       "\n",
       "                            test_id  \n",
       "0      88_49711373_cane_height_type  \n",
       "1      88_49718802_cane_height_type  \n",
       "2      88_49709572_cane_height_type  \n",
       "3      88_49722701_cane_height_type  \n",
       "4      88_49724926_cane_height_type  \n",
       "...                             ...  \n",
       "71814    88_49727540_knit_structure  \n",
       "71815    88_49733648_knit_structure  \n",
       "71816    88_49735572_knit_structure  \n",
       "71817    88_49713624_knit_structure  \n",
       "71818    88_49726160_knit_structure  \n",
       "\n",
       "[71819 rows x 14 columns]"
      ]
     },
     "execution_count": 6,
     "metadata": {},
     "output_type": "execute_result"
    }
   ],
   "source": [
    "test_data"
   ]
  },
  {
   "cell_type": "code",
   "execution_count": 7,
   "metadata": {},
   "outputs": [
    {
     "data": {
      "text/html": [
       "<div>\n",
       "<style scoped>\n",
       "    .dataframe tbody tr th:only-of-type {\n",
       "        vertical-align: middle;\n",
       "    }\n",
       "\n",
       "    .dataframe tbody tr th {\n",
       "        vertical-align: top;\n",
       "    }\n",
       "\n",
       "    .dataframe thead th {\n",
       "        text-align: right;\n",
       "    }\n",
       "</style>\n",
       "<table border=\"1\" class=\"dataframe\">\n",
       "  <thead>\n",
       "    <tr style=\"text-align: right;\">\n",
       "      <th></th>\n",
       "      <th>des_filename</th>\n",
       "      <th>attribute_name</th>\n",
       "    </tr>\n",
       "  </thead>\n",
       "  <tbody>\n",
       "    <tr>\n",
       "      <th>0</th>\n",
       "      <td>88_49711373_67080432-99_.jpg</td>\n",
       "      <td>cane_height_type</td>\n",
       "    </tr>\n",
       "    <tr>\n",
       "      <th>1</th>\n",
       "      <td>88_49718802_67030656-99_.jpg</td>\n",
       "      <td>cane_height_type</td>\n",
       "    </tr>\n",
       "    <tr>\n",
       "      <th>2</th>\n",
       "      <td>88_49709572_67030418-01_B.jpg</td>\n",
       "      <td>cane_height_type</td>\n",
       "    </tr>\n",
       "    <tr>\n",
       "      <th>3</th>\n",
       "      <td>88_49722701_67066002-02_.jpg</td>\n",
       "      <td>cane_height_type</td>\n",
       "    </tr>\n",
       "    <tr>\n",
       "      <th>4</th>\n",
       "      <td>88_49724926_67056330-02_B.jpg</td>\n",
       "      <td>cane_height_type</td>\n",
       "    </tr>\n",
       "  </tbody>\n",
       "</table>\n",
       "</div>"
      ],
      "text/plain": [
       "                    des_filename    attribute_name\n",
       "0   88_49711373_67080432-99_.jpg  cane_height_type\n",
       "1   88_49718802_67030656-99_.jpg  cane_height_type\n",
       "2  88_49709572_67030418-01_B.jpg  cane_height_type\n",
       "3   88_49722701_67066002-02_.jpg  cane_height_type\n",
       "4  88_49724926_67056330-02_B.jpg  cane_height_type"
      ]
     },
     "execution_count": 7,
     "metadata": {},
     "output_type": "execute_result"
    }
   ],
   "source": [
    "test_data = test_data[['des_filename', 'attribute_name']]\n",
    "test_data.head()"
   ]
  },
  {
   "cell_type": "code",
   "execution_count": 8,
   "metadata": {},
   "outputs": [
    {
     "name": "stdout",
     "output_type": "stream",
     "text": [
      "['83_1124794_17001131-56_.jpg', '88_49720760_67060683-05_.jpg', '82_1118361_87077646-41_B.jpg', '84_1183038_27055806-99_.jpg', '84_1190357_27038646-99_B.jpg']\n"
     ]
    }
   ],
   "source": [
    "image_dir = \"../archive/images/images\"\n",
    "image_files = os.listdir(image_dir)\n",
    "print(image_files[:5])"
   ]
  },
  {
   "cell_type": "code",
   "execution_count": 12,
   "metadata": {},
   "outputs": [
    {
     "name": "stdout",
     "output_type": "stream",
     "text": [
      "1/1 [==============================] - 0s 323ms/step\n"
     ]
    },
    {
     "name": "stderr",
     "output_type": "stream",
     "text": [
      "Procesando imágenes:  46%|████▋     | 130085/279855 [20:25<33:37, 74.23it/s]"
     ]
    },
    {
     "name": "stdout",
     "output_type": "stream",
     "text": [
      "1/1 [==============================] - 0s 268ms/step\n"
     ]
    },
    {
     "name": "stderr",
     "output_type": "stream",
     "text": [
      "Procesando imágenes:  46%|████▋     | 130117/279855 [20:25<31:56, 78.13it/s]"
     ]
    },
    {
     "name": "stdout",
     "output_type": "stream",
     "text": [
      "1/1 [==============================] - 0s 278ms/step\n"
     ]
    },
    {
     "name": "stderr",
     "output_type": "stream",
     "text": [
      "Procesando imágenes:  47%|████▋     | 130149/279855 [20:26<31:17, 79.74it/s]"
     ]
    },
    {
     "name": "stdout",
     "output_type": "stream",
     "text": [
      "1/1 [==============================] - 0s 272ms/step\n"
     ]
    },
    {
     "name": "stderr",
     "output_type": "stream",
     "text": [
      "Procesando imágenes:  47%|████▋     | 130181/279855 [20:26<30:17, 82.34it/s]"
     ]
    },
    {
     "name": "stdout",
     "output_type": "stream",
     "text": [
      "1/1 [==============================] - 0s 262ms/step\n"
     ]
    },
    {
     "name": "stderr",
     "output_type": "stream",
     "text": [
      "Procesando imágenes:  47%|████▋     | 130213/279855 [20:26<29:45, 83.82it/s]"
     ]
    },
    {
     "name": "stdout",
     "output_type": "stream",
     "text": [
      "1/1 [==============================] - 0s 272ms/step\n"
     ]
    },
    {
     "name": "stderr",
     "output_type": "stream",
     "text": [
      "Procesando imágenes:  47%|████▋     | 130245/279855 [20:27<29:27, 84.63it/s]"
     ]
    },
    {
     "name": "stdout",
     "output_type": "stream",
     "text": [
      "1/1 [==============================] - 0s 283ms/step\n"
     ]
    },
    {
     "name": "stderr",
     "output_type": "stream",
     "text": [
      "Procesando imágenes:  47%|████▋     | 130277/279855 [20:27<29:44, 83.80it/s]"
     ]
    },
    {
     "name": "stdout",
     "output_type": "stream",
     "text": [
      "1/1 [==============================] - 0s 263ms/step\n"
     ]
    },
    {
     "name": "stderr",
     "output_type": "stream",
     "text": [
      "Procesando imágenes:  47%|████▋     | 130309/279855 [20:27<29:51, 83.47it/s]"
     ]
    },
    {
     "name": "stdout",
     "output_type": "stream",
     "text": [
      "1/1 [==============================] - 0s 293ms/step\n"
     ]
    },
    {
     "name": "stderr",
     "output_type": "stream",
     "text": [
      "Procesando imágenes:  47%|████▋     | 130372/279855 [20:28<24:24, 102.06it/s]"
     ]
    },
    {
     "name": "stdout",
     "output_type": "stream",
     "text": [
      "1/1 [==============================] - 0s 285ms/step\n"
     ]
    },
    {
     "name": "stderr",
     "output_type": "stream",
     "text": [
      "Procesando imágenes:  47%|████▋     | 130387/279855 [20:28<30:29, 81.70it/s] "
     ]
    },
    {
     "name": "stdout",
     "output_type": "stream",
     "text": [
      "1/1 [==============================] - 0s 326ms/step\n"
     ]
    },
    {
     "name": "stderr",
     "output_type": "stream",
     "text": [
      "Procesando imágenes:  47%|████▋     | 130405/279855 [20:30<1:08:09, 36.55it/s]"
     ]
    },
    {
     "name": "stdout",
     "output_type": "stream",
     "text": [
      "1/1 [==============================] - 0s 266ms/step\n"
     ]
    },
    {
     "name": "stderr",
     "output_type": "stream",
     "text": [
      "Procesando imágenes:  47%|████▋     | 130437/279855 [20:30<54:49, 45.43it/s]  "
     ]
    },
    {
     "name": "stdout",
     "output_type": "stream",
     "text": [
      "1/1 [==============================] - 0s 256ms/step\n"
     ]
    },
    {
     "name": "stderr",
     "output_type": "stream",
     "text": [
      "Procesando imágenes:  47%|████▋     | 130469/279855 [20:31<46:25, 53.63it/s]"
     ]
    },
    {
     "name": "stdout",
     "output_type": "stream",
     "text": [
      "1/1 [==============================] - 0s 273ms/step\n"
     ]
    },
    {
     "name": "stderr",
     "output_type": "stream",
     "text": [
      "Procesando imágenes:  47%|████▋     | 130501/279855 [20:31<43:10, 57.64it/s]"
     ]
    },
    {
     "name": "stdout",
     "output_type": "stream",
     "text": [
      "1/1 [==============================] - 0s 288ms/step\n"
     ]
    },
    {
     "name": "stderr",
     "output_type": "stream",
     "text": [
      "Procesando imágenes:  47%|████▋     | 130533/279855 [20:31<38:46, 64.17it/s]"
     ]
    },
    {
     "name": "stdout",
     "output_type": "stream",
     "text": [
      "1/1 [==============================] - 0s 259ms/step\n"
     ]
    },
    {
     "name": "stderr",
     "output_type": "stream",
     "text": [
      "Procesando imágenes:  47%|████▋     | 130565/279855 [20:32<35:24, 70.28it/s]"
     ]
    },
    {
     "name": "stdout",
     "output_type": "stream",
     "text": [
      "1/1 [==============================] - 0s 275ms/step\n"
     ]
    },
    {
     "name": "stderr",
     "output_type": "stream",
     "text": [
      "Procesando imágenes:  47%|████▋     | 130597/279855 [20:32<34:01, 73.13it/s]"
     ]
    },
    {
     "name": "stdout",
     "output_type": "stream",
     "text": [
      "1/1 [==============================] - 0s 260ms/step\n"
     ]
    },
    {
     "name": "stderr",
     "output_type": "stream",
     "text": [
      "Procesando imágenes:  47%|████▋     | 130660/279855 [20:33<23:28, 105.94it/s]\n"
     ]
    },
    {
     "ename": "KeyboardInterrupt",
     "evalue": "",
     "output_type": "error",
     "traceback": [
      "\u001b[0;31m---------------------------------------------------------------------------\u001b[0m",
      "\u001b[0;31mKeyboardInterrupt\u001b[0m                         Traceback (most recent call last)",
      "Cell \u001b[0;32mIn[12], line 50\u001b[0m\n\u001b[1;32m     47\u001b[0m test_image_paths \u001b[38;5;241m=\u001b[39m [os\u001b[38;5;241m.\u001b[39mpath\u001b[38;5;241m.\u001b[39mjoin(image_dir, fname) \u001b[38;5;28;01mfor\u001b[39;00m fname \u001b[38;5;129;01min\u001b[39;00m test_data[\u001b[38;5;124m'\u001b[39m\u001b[38;5;124mdes_filename\u001b[39m\u001b[38;5;124m'\u001b[39m]]\n\u001b[1;32m     49\u001b[0m \u001b[38;5;66;03m# Extracción de características para entrenamiento y prueba\u001b[39;00m\n\u001b[0;32m---> 50\u001b[0m train_image_features, train_failed_indexes \u001b[38;5;241m=\u001b[39m \u001b[43mextract_image_features_batch_mobilenet\u001b[49m\u001b[43m(\u001b[49m\u001b[43mtrain_image_paths\u001b[49m\u001b[43m,\u001b[49m\u001b[43m \u001b[49m\u001b[43mbatch_size\u001b[49m\u001b[38;5;241;43m=\u001b[39;49m\u001b[38;5;241;43m32\u001b[39;49m\u001b[43m)\u001b[49m\n\u001b[1;32m     51\u001b[0m test_image_features, test_failed_indexes \u001b[38;5;241m=\u001b[39m extract_image_features_batch_mobilenet(test_image_paths, batch_size\u001b[38;5;241m=\u001b[39m\u001b[38;5;241m32\u001b[39m)\n",
      "Cell \u001b[0;32mIn[12], line 29\u001b[0m, in \u001b[0;36mextract_image_features_batch_mobilenet\u001b[0;34m(image_paths, batch_size)\u001b[0m\n\u001b[1;32m     27\u001b[0m \u001b[38;5;28;01mif\u001b[39;00m \u001b[38;5;28mlen\u001b[39m(batch) \u001b[38;5;241m==\u001b[39m batch_size:\n\u001b[1;32m     28\u001b[0m     batch_array \u001b[38;5;241m=\u001b[39m np\u001b[38;5;241m.\u001b[39marray(batch)\n\u001b[0;32m---> 29\u001b[0m     batch_features \u001b[38;5;241m=\u001b[39m \u001b[43mmobilenet\u001b[49m\u001b[38;5;241;43m.\u001b[39;49m\u001b[43mpredict\u001b[49m\u001b[43m(\u001b[49m\u001b[43mbatch_array\u001b[49m\u001b[43m)\u001b[49m  \u001b[38;5;66;03m# Predicción en lote\u001b[39;00m\n\u001b[1;32m     30\u001b[0m     features\u001b[38;5;241m.\u001b[39mextend(batch_features)\n\u001b[1;32m     31\u001b[0m     batch \u001b[38;5;241m=\u001b[39m []  \u001b[38;5;66;03m# Reiniciar el lote\u001b[39;00m\n",
      "File \u001b[0;32m/Library/Frameworks/Python.framework/Versions/3.10/lib/python3.10/site-packages/keras/src/utils/traceback_utils.py:65\u001b[0m, in \u001b[0;36mfilter_traceback.<locals>.error_handler\u001b[0;34m(*args, **kwargs)\u001b[0m\n\u001b[1;32m     63\u001b[0m filtered_tb \u001b[38;5;241m=\u001b[39m \u001b[38;5;28;01mNone\u001b[39;00m\n\u001b[1;32m     64\u001b[0m \u001b[38;5;28;01mtry\u001b[39;00m:\n\u001b[0;32m---> 65\u001b[0m     \u001b[38;5;28;01mreturn\u001b[39;00m \u001b[43mfn\u001b[49m\u001b[43m(\u001b[49m\u001b[38;5;241;43m*\u001b[39;49m\u001b[43margs\u001b[49m\u001b[43m,\u001b[49m\u001b[43m \u001b[49m\u001b[38;5;241;43m*\u001b[39;49m\u001b[38;5;241;43m*\u001b[39;49m\u001b[43mkwargs\u001b[49m\u001b[43m)\u001b[49m\n\u001b[1;32m     66\u001b[0m \u001b[38;5;28;01mexcept\u001b[39;00m \u001b[38;5;167;01mException\u001b[39;00m \u001b[38;5;28;01mas\u001b[39;00m e:\n\u001b[1;32m     67\u001b[0m     filtered_tb \u001b[38;5;241m=\u001b[39m _process_traceback_frames(e\u001b[38;5;241m.\u001b[39m__traceback__)\n",
      "File \u001b[0;32m/Library/Frameworks/Python.framework/Versions/3.10/lib/python3.10/site-packages/keras/src/engine/training.py:2554\u001b[0m, in \u001b[0;36mModel.predict\u001b[0;34m(self, x, batch_size, verbose, steps, callbacks, max_queue_size, workers, use_multiprocessing)\u001b[0m\n\u001b[1;32m   2552\u001b[0m \u001b[38;5;28;01mfor\u001b[39;00m step \u001b[38;5;129;01min\u001b[39;00m data_handler\u001b[38;5;241m.\u001b[39msteps():\n\u001b[1;32m   2553\u001b[0m     callbacks\u001b[38;5;241m.\u001b[39mon_predict_batch_begin(step)\n\u001b[0;32m-> 2554\u001b[0m     tmp_batch_outputs \u001b[38;5;241m=\u001b[39m \u001b[38;5;28;43mself\u001b[39;49m\u001b[38;5;241;43m.\u001b[39;49m\u001b[43mpredict_function\u001b[49m\u001b[43m(\u001b[49m\u001b[43miterator\u001b[49m\u001b[43m)\u001b[49m\n\u001b[1;32m   2555\u001b[0m     \u001b[38;5;28;01mif\u001b[39;00m data_handler\u001b[38;5;241m.\u001b[39mshould_sync:\n\u001b[1;32m   2556\u001b[0m         context\u001b[38;5;241m.\u001b[39masync_wait()\n",
      "File \u001b[0;32m/Library/Frameworks/Python.framework/Versions/3.10/lib/python3.10/site-packages/tensorflow/python/util/traceback_utils.py:150\u001b[0m, in \u001b[0;36mfilter_traceback.<locals>.error_handler\u001b[0;34m(*args, **kwargs)\u001b[0m\n\u001b[1;32m    148\u001b[0m filtered_tb \u001b[38;5;241m=\u001b[39m \u001b[38;5;28;01mNone\u001b[39;00m\n\u001b[1;32m    149\u001b[0m \u001b[38;5;28;01mtry\u001b[39;00m:\n\u001b[0;32m--> 150\u001b[0m   \u001b[38;5;28;01mreturn\u001b[39;00m \u001b[43mfn\u001b[49m\u001b[43m(\u001b[49m\u001b[38;5;241;43m*\u001b[39;49m\u001b[43margs\u001b[49m\u001b[43m,\u001b[49m\u001b[43m \u001b[49m\u001b[38;5;241;43m*\u001b[39;49m\u001b[38;5;241;43m*\u001b[39;49m\u001b[43mkwargs\u001b[49m\u001b[43m)\u001b[49m\n\u001b[1;32m    151\u001b[0m \u001b[38;5;28;01mexcept\u001b[39;00m \u001b[38;5;167;01mException\u001b[39;00m \u001b[38;5;28;01mas\u001b[39;00m e:\n\u001b[1;32m    152\u001b[0m   filtered_tb \u001b[38;5;241m=\u001b[39m _process_traceback_frames(e\u001b[38;5;241m.\u001b[39m__traceback__)\n",
      "File \u001b[0;32m/Library/Frameworks/Python.framework/Versions/3.10/lib/python3.10/site-packages/tensorflow/python/eager/polymorphic_function/polymorphic_function.py:825\u001b[0m, in \u001b[0;36mFunction.__call__\u001b[0;34m(self, *args, **kwds)\u001b[0m\n\u001b[1;32m    822\u001b[0m compiler \u001b[38;5;241m=\u001b[39m \u001b[38;5;124m\"\u001b[39m\u001b[38;5;124mxla\u001b[39m\u001b[38;5;124m\"\u001b[39m \u001b[38;5;28;01mif\u001b[39;00m \u001b[38;5;28mself\u001b[39m\u001b[38;5;241m.\u001b[39m_jit_compile \u001b[38;5;28;01melse\u001b[39;00m \u001b[38;5;124m\"\u001b[39m\u001b[38;5;124mnonXla\u001b[39m\u001b[38;5;124m\"\u001b[39m\n\u001b[1;32m    824\u001b[0m \u001b[38;5;28;01mwith\u001b[39;00m OptionalXlaContext(\u001b[38;5;28mself\u001b[39m\u001b[38;5;241m.\u001b[39m_jit_compile):\n\u001b[0;32m--> 825\u001b[0m   result \u001b[38;5;241m=\u001b[39m \u001b[38;5;28;43mself\u001b[39;49m\u001b[38;5;241;43m.\u001b[39;49m\u001b[43m_call\u001b[49m\u001b[43m(\u001b[49m\u001b[38;5;241;43m*\u001b[39;49m\u001b[43margs\u001b[49m\u001b[43m,\u001b[49m\u001b[43m \u001b[49m\u001b[38;5;241;43m*\u001b[39;49m\u001b[38;5;241;43m*\u001b[39;49m\u001b[43mkwds\u001b[49m\u001b[43m)\u001b[49m\n\u001b[1;32m    827\u001b[0m new_tracing_count \u001b[38;5;241m=\u001b[39m \u001b[38;5;28mself\u001b[39m\u001b[38;5;241m.\u001b[39mexperimental_get_tracing_count()\n\u001b[1;32m    828\u001b[0m without_tracing \u001b[38;5;241m=\u001b[39m (tracing_count \u001b[38;5;241m==\u001b[39m new_tracing_count)\n",
      "File \u001b[0;32m/Library/Frameworks/Python.framework/Versions/3.10/lib/python3.10/site-packages/tensorflow/python/eager/polymorphic_function/polymorphic_function.py:864\u001b[0m, in \u001b[0;36mFunction._call\u001b[0;34m(self, *args, **kwds)\u001b[0m\n\u001b[1;32m    861\u001b[0m \u001b[38;5;28mself\u001b[39m\u001b[38;5;241m.\u001b[39m_lock\u001b[38;5;241m.\u001b[39mrelease()\n\u001b[1;32m    862\u001b[0m \u001b[38;5;66;03m# In this case we have not created variables on the first call. So we can\u001b[39;00m\n\u001b[1;32m    863\u001b[0m \u001b[38;5;66;03m# run the first trace but we should fail if variables are created.\u001b[39;00m\n\u001b[0;32m--> 864\u001b[0m results \u001b[38;5;241m=\u001b[39m \u001b[38;5;28;43mself\u001b[39;49m\u001b[38;5;241;43m.\u001b[39;49m\u001b[43m_variable_creation_fn\u001b[49m\u001b[43m(\u001b[49m\u001b[38;5;241;43m*\u001b[39;49m\u001b[43margs\u001b[49m\u001b[43m,\u001b[49m\u001b[43m \u001b[49m\u001b[38;5;241;43m*\u001b[39;49m\u001b[38;5;241;43m*\u001b[39;49m\u001b[43mkwds\u001b[49m\u001b[43m)\u001b[49m\n\u001b[1;32m    865\u001b[0m \u001b[38;5;28;01mif\u001b[39;00m \u001b[38;5;28mself\u001b[39m\u001b[38;5;241m.\u001b[39m_created_variables \u001b[38;5;129;01mand\u001b[39;00m \u001b[38;5;129;01mnot\u001b[39;00m ALLOW_DYNAMIC_VARIABLE_CREATION:\n\u001b[1;32m    866\u001b[0m   \u001b[38;5;28;01mraise\u001b[39;00m \u001b[38;5;167;01mValueError\u001b[39;00m(\u001b[38;5;124m\"\u001b[39m\u001b[38;5;124mCreating variables on a non-first call to a function\u001b[39m\u001b[38;5;124m\"\u001b[39m\n\u001b[1;32m    867\u001b[0m                    \u001b[38;5;124m\"\u001b[39m\u001b[38;5;124m decorated with tf.function.\u001b[39m\u001b[38;5;124m\"\u001b[39m)\n",
      "File \u001b[0;32m/Library/Frameworks/Python.framework/Versions/3.10/lib/python3.10/site-packages/tensorflow/python/eager/polymorphic_function/tracing_compiler.py:148\u001b[0m, in \u001b[0;36mTracingCompiler.__call__\u001b[0;34m(self, *args, **kwargs)\u001b[0m\n\u001b[1;32m    145\u001b[0m \u001b[38;5;28;01mwith\u001b[39;00m \u001b[38;5;28mself\u001b[39m\u001b[38;5;241m.\u001b[39m_lock:\n\u001b[1;32m    146\u001b[0m   (concrete_function,\n\u001b[1;32m    147\u001b[0m    filtered_flat_args) \u001b[38;5;241m=\u001b[39m \u001b[38;5;28mself\u001b[39m\u001b[38;5;241m.\u001b[39m_maybe_define_function(args, kwargs)\n\u001b[0;32m--> 148\u001b[0m \u001b[38;5;28;01mreturn\u001b[39;00m \u001b[43mconcrete_function\u001b[49m\u001b[38;5;241;43m.\u001b[39;49m\u001b[43m_call_flat\u001b[49m\u001b[43m(\u001b[49m\n\u001b[1;32m    149\u001b[0m \u001b[43m    \u001b[49m\u001b[43mfiltered_flat_args\u001b[49m\u001b[43m,\u001b[49m\u001b[43m \u001b[49m\u001b[43mcaptured_inputs\u001b[49m\u001b[38;5;241;43m=\u001b[39;49m\u001b[43mconcrete_function\u001b[49m\u001b[38;5;241;43m.\u001b[39;49m\u001b[43mcaptured_inputs\u001b[49m\u001b[43m)\u001b[49m\n",
      "File \u001b[0;32m/Library/Frameworks/Python.framework/Versions/3.10/lib/python3.10/site-packages/tensorflow/python/eager/polymorphic_function/monomorphic_function.py:1349\u001b[0m, in \u001b[0;36mConcreteFunction._call_flat\u001b[0;34m(self, args, captured_inputs)\u001b[0m\n\u001b[1;32m   1345\u001b[0m possible_gradient_type \u001b[38;5;241m=\u001b[39m gradients_util\u001b[38;5;241m.\u001b[39mPossibleTapeGradientTypes(args)\n\u001b[1;32m   1346\u001b[0m \u001b[38;5;28;01mif\u001b[39;00m (possible_gradient_type \u001b[38;5;241m==\u001b[39m gradients_util\u001b[38;5;241m.\u001b[39mPOSSIBLE_GRADIENT_TYPES_NONE\n\u001b[1;32m   1347\u001b[0m     \u001b[38;5;129;01mand\u001b[39;00m executing_eagerly):\n\u001b[1;32m   1348\u001b[0m   \u001b[38;5;66;03m# No tape is watching; skip to running the function.\u001b[39;00m\n\u001b[0;32m-> 1349\u001b[0m   \u001b[38;5;28;01mreturn\u001b[39;00m \u001b[38;5;28mself\u001b[39m\u001b[38;5;241m.\u001b[39m_build_call_outputs(\u001b[38;5;28;43mself\u001b[39;49m\u001b[38;5;241;43m.\u001b[39;49m\u001b[43m_inference_function\u001b[49m\u001b[43m(\u001b[49m\u001b[38;5;241;43m*\u001b[39;49m\u001b[43margs\u001b[49m\u001b[43m)\u001b[49m)\n\u001b[1;32m   1350\u001b[0m forward_backward \u001b[38;5;241m=\u001b[39m \u001b[38;5;28mself\u001b[39m\u001b[38;5;241m.\u001b[39m_select_forward_and_backward_functions(\n\u001b[1;32m   1351\u001b[0m     args,\n\u001b[1;32m   1352\u001b[0m     possible_gradient_type,\n\u001b[1;32m   1353\u001b[0m     executing_eagerly)\n\u001b[1;32m   1354\u001b[0m forward_function, args_with_tangents \u001b[38;5;241m=\u001b[39m forward_backward\u001b[38;5;241m.\u001b[39mforward()\n",
      "File \u001b[0;32m/Library/Frameworks/Python.framework/Versions/3.10/lib/python3.10/site-packages/tensorflow/python/eager/polymorphic_function/atomic_function.py:196\u001b[0m, in \u001b[0;36mAtomicFunction.__call__\u001b[0;34m(self, *args)\u001b[0m\n\u001b[1;32m    194\u001b[0m \u001b[38;5;28;01mwith\u001b[39;00m record\u001b[38;5;241m.\u001b[39mstop_recording():\n\u001b[1;32m    195\u001b[0m   \u001b[38;5;28;01mif\u001b[39;00m \u001b[38;5;28mself\u001b[39m\u001b[38;5;241m.\u001b[39m_bound_context\u001b[38;5;241m.\u001b[39mexecuting_eagerly():\n\u001b[0;32m--> 196\u001b[0m     outputs \u001b[38;5;241m=\u001b[39m \u001b[38;5;28;43mself\u001b[39;49m\u001b[38;5;241;43m.\u001b[39;49m\u001b[43m_bound_context\u001b[49m\u001b[38;5;241;43m.\u001b[39;49m\u001b[43mcall_function\u001b[49m\u001b[43m(\u001b[49m\n\u001b[1;32m    197\u001b[0m \u001b[43m        \u001b[49m\u001b[38;5;28;43mself\u001b[39;49m\u001b[38;5;241;43m.\u001b[39;49m\u001b[43mname\u001b[49m\u001b[43m,\u001b[49m\n\u001b[1;32m    198\u001b[0m \u001b[43m        \u001b[49m\u001b[38;5;28;43mlist\u001b[39;49m\u001b[43m(\u001b[49m\u001b[43margs\u001b[49m\u001b[43m)\u001b[49m\u001b[43m,\u001b[49m\n\u001b[1;32m    199\u001b[0m \u001b[43m        \u001b[49m\u001b[38;5;28;43mlen\u001b[39;49m\u001b[43m(\u001b[49m\u001b[38;5;28;43mself\u001b[39;49m\u001b[38;5;241;43m.\u001b[39;49m\u001b[43mfunction_type\u001b[49m\u001b[38;5;241;43m.\u001b[39;49m\u001b[43mflat_outputs\u001b[49m\u001b[43m)\u001b[49m\u001b[43m,\u001b[49m\n\u001b[1;32m    200\u001b[0m \u001b[43m    \u001b[49m\u001b[43m)\u001b[49m\n\u001b[1;32m    201\u001b[0m   \u001b[38;5;28;01melse\u001b[39;00m:\n\u001b[1;32m    202\u001b[0m     outputs \u001b[38;5;241m=\u001b[39m make_call_op_in_graph(\u001b[38;5;28mself\u001b[39m, \u001b[38;5;28mlist\u001b[39m(args))\n",
      "File \u001b[0;32m/Library/Frameworks/Python.framework/Versions/3.10/lib/python3.10/site-packages/tensorflow/python/eager/context.py:1457\u001b[0m, in \u001b[0;36mContext.call_function\u001b[0;34m(self, name, tensor_inputs, num_outputs)\u001b[0m\n\u001b[1;32m   1455\u001b[0m cancellation_context \u001b[38;5;241m=\u001b[39m cancellation\u001b[38;5;241m.\u001b[39mcontext()\n\u001b[1;32m   1456\u001b[0m \u001b[38;5;28;01mif\u001b[39;00m cancellation_context \u001b[38;5;129;01mis\u001b[39;00m \u001b[38;5;28;01mNone\u001b[39;00m:\n\u001b[0;32m-> 1457\u001b[0m   outputs \u001b[38;5;241m=\u001b[39m \u001b[43mexecute\u001b[49m\u001b[38;5;241;43m.\u001b[39;49m\u001b[43mexecute\u001b[49m\u001b[43m(\u001b[49m\n\u001b[1;32m   1458\u001b[0m \u001b[43m      \u001b[49m\u001b[43mname\u001b[49m\u001b[38;5;241;43m.\u001b[39;49m\u001b[43mdecode\u001b[49m\u001b[43m(\u001b[49m\u001b[38;5;124;43m\"\u001b[39;49m\u001b[38;5;124;43mutf-8\u001b[39;49m\u001b[38;5;124;43m\"\u001b[39;49m\u001b[43m)\u001b[49m\u001b[43m,\u001b[49m\n\u001b[1;32m   1459\u001b[0m \u001b[43m      \u001b[49m\u001b[43mnum_outputs\u001b[49m\u001b[38;5;241;43m=\u001b[39;49m\u001b[43mnum_outputs\u001b[49m\u001b[43m,\u001b[49m\n\u001b[1;32m   1460\u001b[0m \u001b[43m      \u001b[49m\u001b[43minputs\u001b[49m\u001b[38;5;241;43m=\u001b[39;49m\u001b[43mtensor_inputs\u001b[49m\u001b[43m,\u001b[49m\n\u001b[1;32m   1461\u001b[0m \u001b[43m      \u001b[49m\u001b[43mattrs\u001b[49m\u001b[38;5;241;43m=\u001b[39;49m\u001b[43mattrs\u001b[49m\u001b[43m,\u001b[49m\n\u001b[1;32m   1462\u001b[0m \u001b[43m      \u001b[49m\u001b[43mctx\u001b[49m\u001b[38;5;241;43m=\u001b[39;49m\u001b[38;5;28;43mself\u001b[39;49m\u001b[43m,\u001b[49m\n\u001b[1;32m   1463\u001b[0m \u001b[43m  \u001b[49m\u001b[43m)\u001b[49m\n\u001b[1;32m   1464\u001b[0m \u001b[38;5;28;01melse\u001b[39;00m:\n\u001b[1;32m   1465\u001b[0m   outputs \u001b[38;5;241m=\u001b[39m execute\u001b[38;5;241m.\u001b[39mexecute_with_cancellation(\n\u001b[1;32m   1466\u001b[0m       name\u001b[38;5;241m.\u001b[39mdecode(\u001b[38;5;124m\"\u001b[39m\u001b[38;5;124mutf-8\u001b[39m\u001b[38;5;124m\"\u001b[39m),\n\u001b[1;32m   1467\u001b[0m       num_outputs\u001b[38;5;241m=\u001b[39mnum_outputs,\n\u001b[0;32m   (...)\u001b[0m\n\u001b[1;32m   1471\u001b[0m       cancellation_manager\u001b[38;5;241m=\u001b[39mcancellation_context,\n\u001b[1;32m   1472\u001b[0m   )\n",
      "File \u001b[0;32m/Library/Frameworks/Python.framework/Versions/3.10/lib/python3.10/site-packages/tensorflow/python/eager/execute.py:53\u001b[0m, in \u001b[0;36mquick_execute\u001b[0;34m(op_name, num_outputs, inputs, attrs, ctx, name)\u001b[0m\n\u001b[1;32m     51\u001b[0m \u001b[38;5;28;01mtry\u001b[39;00m:\n\u001b[1;32m     52\u001b[0m   ctx\u001b[38;5;241m.\u001b[39mensure_initialized()\n\u001b[0;32m---> 53\u001b[0m   tensors \u001b[38;5;241m=\u001b[39m \u001b[43mpywrap_tfe\u001b[49m\u001b[38;5;241;43m.\u001b[39;49m\u001b[43mTFE_Py_Execute\u001b[49m\u001b[43m(\u001b[49m\u001b[43mctx\u001b[49m\u001b[38;5;241;43m.\u001b[39;49m\u001b[43m_handle\u001b[49m\u001b[43m,\u001b[49m\u001b[43m \u001b[49m\u001b[43mdevice_name\u001b[49m\u001b[43m,\u001b[49m\u001b[43m \u001b[49m\u001b[43mop_name\u001b[49m\u001b[43m,\u001b[49m\n\u001b[1;32m     54\u001b[0m \u001b[43m                                      \u001b[49m\u001b[43minputs\u001b[49m\u001b[43m,\u001b[49m\u001b[43m \u001b[49m\u001b[43mattrs\u001b[49m\u001b[43m,\u001b[49m\u001b[43m \u001b[49m\u001b[43mnum_outputs\u001b[49m\u001b[43m)\u001b[49m\n\u001b[1;32m     55\u001b[0m \u001b[38;5;28;01mexcept\u001b[39;00m core\u001b[38;5;241m.\u001b[39m_NotOkStatusException \u001b[38;5;28;01mas\u001b[39;00m e:\n\u001b[1;32m     56\u001b[0m   \u001b[38;5;28;01mif\u001b[39;00m name \u001b[38;5;129;01mis\u001b[39;00m \u001b[38;5;129;01mnot\u001b[39;00m \u001b[38;5;28;01mNone\u001b[39;00m:\n",
      "\u001b[0;31mKeyboardInterrupt\u001b[0m: "
     ]
    }
   ],
   "source": [
    "from tensorflow.keras.applications import MobileNet\n",
    "from tensorflow.keras.preprocessing import image as keras_img\n",
    "from tensorflow.keras.applications.mobilenet import preprocess_input\n",
    "import numpy as np\n",
    "import os\n",
    "from tqdm import tqdm\n",
    "\n",
    "# Inicializar MobileNet para extracción de características\n",
    "mobilenet = MobileNet(include_top=False, pooling='avg', input_shape=(224, 224, 3))\n",
    "\n",
    "# Función para extraer características por lotes\n",
    "def extract_image_features_batch_mobilenet(image_paths, batch_size=32):\n",
    "    features = []\n",
    "    batch = []\n",
    "    failed_indexes = []\n",
    "\n",
    "    for idx, image_path in enumerate(tqdm(image_paths, desc=\"Procesando imágenes\")):\n",
    "        try:\n",
    "            # Cargar y procesar cada imagen\n",
    "            img = keras_img.load_img(image_path, target_size=(160, 224))\n",
    "            img_data = keras_img.img_to_array(img)\n",
    "            img_data = keras_img.smart_resize(img_data, (224, 224))  # Esto hace el redimensionado a 224x224\n",
    "            img_data = preprocess_input(img_data)  # Preprocesamiento de MobileNet\n",
    "            batch.append(img_data)\n",
    "\n",
    "            # Si el lote alcanza el tamaño definido\n",
    "            if len(batch) == batch_size:\n",
    "                batch_array = np.array(batch)\n",
    "                batch_features = mobilenet.predict(batch_array)  # Predicción en lote\n",
    "                features.extend(batch_features)\n",
    "                batch = []  # Reiniciar el lote\n",
    "        except Exception as e:\n",
    "            print(f\"Error processing image {image_path}: {e}\")\n",
    "            failed_indexes.append(idx)\n",
    "\n",
    "    # Procesar el último lote si no está vacío\n",
    "    if batch:\n",
    "        batch_array = np.array(batch)\n",
    "        batch_features = mobilenet.predict(batch_array)\n",
    "        features.extend(batch_features)\n",
    "\n",
    "    return np.array(features), failed_indexes\n",
    "\n",
    "# Rutas de imágenes (asume que 'des_filename' contiene nombres de archivo)\n",
    "# image_dir = \"path_to_images/\"\n",
    "train_image_paths = [os.path.join(image_dir, fname) for fname in merged_data['des_filename']]\n",
    "test_image_paths = [os.path.join(image_dir, fname) for fname in test_data['des_filename']]\n",
    "\n",
    "# Extracción de características para entrenamiento y prueba\n",
    "train_image_features, train_failed_indexes = extract_image_features_batch_mobilenet(train_image_paths, batch_size=32)\n",
    "test_image_features, test_failed_indexes = extract_image_features_batch_mobilenet(test_image_paths, batch_size=32)\n",
    "\n"
   ]
  },
  {
   "cell_type": "code",
   "execution_count": null,
   "metadata": {},
   "outputs": [],
   "source": [
    "# Guardar características\n",
    "np.save('train_image_features.npy', train_image_features)\n",
    "np.save('test_image_features.npy', test_image_features)\n",
    "\n",
    "# Cargar características\n",
    "train_image_features = np.load('train_image_features.npy')\n",
    "test_image_features = np.load('test_image_features.npy')\n"
   ]
  },
  {
   "cell_type": "code",
   "execution_count": null,
   "metadata": {},
   "outputs": [],
   "source": []
  },
  {
   "cell_type": "code",
   "execution_count": null,
   "metadata": {},
   "outputs": [],
   "source": [
    "# Celda 7: Combinar características tabulares e imágenes\n",
    "# Combinar características tabulares con características de imagen para el conjunto de entrenamiento\n",
    "X_train_tabular = merged_data[categorical_cols].values\n",
    "X_train_image = train_image_features\n",
    "\n",
    "# Para el conjunto de prueba\n",
    "X_test_tabular = test_data[categorical_cols].values\n",
    "X_test_image = test_image_features\n",
    "\n",
    "# Estandarizar las características tabulares (escalado opcional)\n",
    "scaler = StandardScaler()\n",
    "X_train_tabular = scaler.fit_transform(X_train_tabular)\n",
    "X_test_tabular = scaler.transform(X_test_tabular)\n",
    "\n",
    "# Combinar las características (tabulares + imagen)\n",
    "def combine_features(tabular_data, image_data):\n",
    "    return [tabular_data, image_data]\n",
    "\n",
    "X_train = combine_features(X_train_tabular, X_train_image)\n",
    "X_test = combine_features(X_test_tabular, X_test_image)\n",
    "\n",
    "# Variable objetivo\n",
    "y_train = to_categorical(merged_data['des_value_encoded'], num_classes=target_classes)\n"
   ]
  },
  {
   "cell_type": "code",
   "execution_count": null,
   "metadata": {},
   "outputs": [],
   "source": [
    "# Celda 8: Desarrollo del modelo usando redes neuronales y ResNet\n",
    "# Definir la forma de los datos tabulares e imagen\n",
    "tabular_input = Input(shape=(len(categorical_cols),))\n",
    "image_input = Input(shape=(2048,))  # Tamaño de las características de ResNet (pooling='avg' da 2048 dim)\n",
    "\n",
    "# Rama de datos tabulares\n",
    "x1 = Dense(256, activation='relu')(tabular_input)\n",
    "x1 = Dense(128, activation='relu')(x1)\n",
    "\n",
    "# Rama de datos de imagen\n",
    "x2 = Dense(256, activation='relu')(image_input)\n",
    "x2 = Dense(128, activation='relu')(x2)\n",
    "\n",
    "# Combinar las ramas\n",
    "combined = concatenate([x1, x2])\n",
    "combined = Dense(128, activation='relu')(combined)\n",
    "combined = Dense(64, activation='relu')(combined)\n",
    "\n",
    "# Capa de salida para clasificación multiclase\n",
    "output = Dense(target_classes, activation='softmax')(combined)\n",
    "\n",
    "# Crear el modelo\n",
    "model = Model(inputs=[tabular_input, image_input], outputs=output)\n",
    "\n",
    "# Compilar el modelo\n",
    "model.compile(optimizer='adam', loss='categorical_crossentropy', metrics=['accuracy'])\n",
    "\n",
    "# Mostrar resumen del modelo\n",
    "model.summary()\n"
   ]
  },
  {
   "cell_type": "code",
   "execution_count": null,
   "metadata": {},
   "outputs": [],
   "source": [
    "# Celda 9: Entrenamiento del modelo\n",
    "# Entrenar el modelo utilizando una partición para validación\n",
    "X_com = combine_features(X_train_tabular, X_train_image)\n",
    "model.fit(X_com, y_train, epochs=10, batch_size=32, validation_split=0.2)\n"
   ]
  },
  {
   "cell_type": "code",
   "execution_count": null,
   "metadata": {},
   "outputs": [],
   "source": [
    "# Celda 10: Predicción y Generación de la Subida\n",
    "# Predecir sobre el conjunto de prueba\n",
    "X_test_com = combine_features(X_test_tabular, X_test_image)\n",
    "predictions = model.predict(X_test_com)\n",
    "\n",
    "# Decodificar las predicciones\n",
    "predicted_classes = np.argmax(predictions, axis=1)\n",
    "predicted_labels = le_value.inverse_transform(predicted_classes)\n",
    "\n",
    "# Crear archivo de sumisión\n",
    "submission = pd.DataFrame({\n",
    "    'test_id': test_data['test_id'],\n",
    "    'des_value': predicted_labels\n",
    "})\n",
    "\n",
    "# Guardar archivo de sumisión a CSV\n",
    "submission.to_csv('submission.csv', index=False)\n"
   ]
  },
  {
   "cell_type": "code",
   "execution_count": null,
   "metadata": {},
   "outputs": [],
   "source": [
    "# Celda 11: Manejo de predicciones INVÁLIDAS\n",
    "# Si es necesario, puedes volver a ejecutar una función de aplicabilidad que verifique si un atributo es válido para ciertos tipos de productos\n",
    "def mark_as_invalid(df, rules):\n",
    "    for idx, row in df.iterrows():\n",
    "        if not rule_applies(row['attribute_name'], row['des_product_type']):  # Función personalizada de reglas\n",
    "            df.at[idx, 'des_value'] = 'INVALID'\n",
    "    return df\n",
    "\n",
    "# Función de regla personalizada para reemplazar los inválidos\n",
    "def rule_applies(attribute, product_type):\n",
    "    # Definir las reglas de aplicabilidad aquí\n",
    "    if attribute == 'heel_shape_type' and product_type not in ['Shoes', 'Sandals', 'Footwear']:\n",
    "        return False\n",
    "    return True\n",
    "\n",
    "# Aplicarlo\n",
    "submission = mark_as_invalid(submission, rules={})\n"
   ]
  }
 ],
 "metadata": {
  "kernelspec": {
   "display_name": "Python 3",
   "language": "python",
   "name": "python3"
  },
  "language_info": {
   "codemirror_mode": {
    "name": "ipython",
    "version": 3
   },
   "file_extension": ".py",
   "mimetype": "text/x-python",
   "name": "python",
   "nbconvert_exporter": "python",
   "pygments_lexer": "ipython3",
   "version": "3.10.11"
  }
 },
 "nbformat": 4,
 "nbformat_minor": 2
}
